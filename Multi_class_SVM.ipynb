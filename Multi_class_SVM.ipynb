{
 "cells": [
  {
   "cell_type": "code",
   "execution_count": 1,
   "metadata": {},
   "outputs": [
    {
     "name": "stderr",
     "output_type": "stream",
     "text": [
      "/Users/sriramreddy/anaconda3/lib/python3.6/site-packages/h5py/__init__.py:34: FutureWarning: Conversion of the second argument of issubdtype from `float` to `np.floating` is deprecated. In future, it will be treated as `np.float64 == np.dtype(float).type`.\n",
      "  from ._conv import register_converters as _register_converters\n",
      "Using TensorFlow backend.\n"
     ]
    },
    {
     "name": "stdout",
     "output_type": "stream",
     "text": [
      "['freshbanana', '.DS_Store', 'rottenbanana', 'script', 'freshoranges', 'list', 'freshapples', 'rottenoranges', 'rottenapples']\n"
     ]
    }
   ],
   "source": [
    "import sklearn\n",
    "import numpy as np \n",
    "import pandas as pd \n",
    "import matplotlib.pyplot as plt\n",
    "%matplotlib inline\n",
    "import tensorflow as tf\n",
    "import keras\n",
    "import glob\n",
    "import cv2\n",
    "import os\n",
    "print(os.listdir(\"/Users/sriramreddy/Downloads/523/ex2/train/\"))\n",
    "#I need to resize the images. So opencv\n",
    "#SVC curve fitting for classification ---- scikitlearn\n",
    "#Please change the directory to the folder downloaded from Kaggle\n",
    "#kaggle datasets download -d sriramr/fruits-fresh-and-rotten-for-classification"
   ]
  },
  {
   "cell_type": "code",
   "execution_count": 3,
   "metadata": {
    "collapsed": true
   },
   "outputs": [],
   "source": [
    "fruit_images = []\n",
    "labels = [] \n",
    "for fruit_dir_path in glob.glob(\"/Users/sriramreddy/Downloads/523/ex2/train/*\"):\n",
    "    fruit_label = fruit_dir_path.split(\"/\")[-1]\n",
    "    for image_path in glob.glob(os.path.join(fruit_dir_path, \"*.png\")):\n",
    "        image = cv2.imread(image_path, cv2.IMREAD_COLOR)\n",
    "        image = cv2.resize(image, (110, 110))\n",
    "        image = cv2.cvtColor(image, cv2.COLOR_RGB2GRAY) \n",
    "        #why do we need to convert the RGB2BGR\n",
    "        #I don't think it is going to affect training\n",
    "        #BGR was a choice made for historical reasons and now we have to live with it. In other words, BGR is the horse’s ass in OpenCV.\n",
    "        fruit_images.append(image)\n",
    "        labels.append(fruit_label)\n",
    "fruit_images = np.array(fruit_images)\n",
    "fruit_images = fruit_images.reshape(len(fruit_images),-1)\n",
    "labels = np.array(labels)"
   ]
  },
  {
   "cell_type": "code",
   "execution_count": 4,
   "metadata": {},
   "outputs": [
    {
     "name": "stdout",
     "output_type": "stream",
     "text": [
      "(10901, 12100)\n"
     ]
    }
   ],
   "source": [
    "print(np.shape(fruit_images))\n",
    "#print(fruit_images)\n",
    "#print(labels)"
   ]
  },
  {
   "cell_type": "code",
   "execution_count": 5,
   "metadata": {},
   "outputs": [
    {
     "data": {
      "text/plain": [
       "RandomForestClassifier(bootstrap=True, class_weight=None, criterion='gini',\n",
       "            max_depth=9, max_features='auto', max_leaf_nodes=None,\n",
       "            min_impurity_decrease=0.0, min_impurity_split=None,\n",
       "            min_samples_leaf=1, min_samples_split=2,\n",
       "            min_weight_fraction_leaf=0.0, n_estimators=10, n_jobs=1,\n",
       "            oob_score=False, random_state=0, verbose=0, warm_start=False)"
      ]
     },
     "execution_count": 5,
     "metadata": {},
     "output_type": "execute_result"
    }
   ],
   "source": [
    "from sklearn import svm\n",
    "from sklearn.ensemble import RandomForestClassifier\n",
    "#clf = svm.SVC(decision_function_shape='ovo')\n",
    "#clf = svm.SVC()\n",
    "clf=RandomForestClassifier(max_depth=9, random_state=0)\n",
    "clf.fit(fruit_images, labels) "
   ]
  },
  {
   "cell_type": "code",
   "execution_count": null,
   "metadata": {
    "collapsed": true
   },
   "outputs": [],
   "source": [
    "#SVC(C=1.0, cache_size=200, class_weight=None, coef0=0.0,\n",
    "#    decision_function_shape='ovo', degree=3, gamma='auto', kernel='rbf',\n",
    "#    max_iter=-1, probability=False, random_state=None, shrinking=True,\n",
    "#    tol=0.001, verbose=False)"
   ]
  },
  {
   "cell_type": "code",
   "execution_count": 6,
   "metadata": {},
   "outputs": [
    {
     "data": {
      "image/png": "[encoded data removed]",
      "text/plain": [
       "<matplotlib.figure.Figure at 0x10d49feb8>"
      ]
     },
     "metadata": {},
     "output_type": "display_data"
    }
   ],
   "source": [
    "import matplotlib.pyplot as plt\n",
    "validation_fruit_images = []\n",
    "validation_labels = [] \n",
    "for fruit_dir_path in glob.glob(\"/Users/sriramreddy/Downloads/523/ex2/test/*\"):\n",
    "    fruit_label = fruit_dir_path.split(\"/\")[-1]\n",
    "    for image_path in glob.glob(os.path.join(fruit_dir_path, \"*.png\")):\n",
    "        image = cv2.imread(image_path, cv2.IMREAD_COLOR)\n",
    "        image = cv2.resize(image, (110, 110))\n",
    "        image = cv2.cvtColor(image, cv2.COLOR_RGB2GRAY)\n",
    "        #image = cv2.cvtColor(image, cv2.COLOR_RGB2BGR)\n",
    "        validation_fruit_images.append(image)\n",
    "        validation_labels.append(fruit_label)\n",
    "validation_fruit_images = np.array(validation_fruit_images)\n",
    "plt.imshow(cv2.cvtColor(validation_fruit_images[1], cv2.COLOR_GRAY2RGB))\n",
    "plt.show()\n",
    "#cv2.imshow(validation_fruit_images[1])\n",
    "validation_fruit_images = validation_fruit_images.reshape(len(validation_fruit_images),-1)\n",
    "validation_labels = np.array(validation_labels)"
   ]
  },
  {
   "cell_type": "code",
   "execution_count": 7,
   "metadata": {},
   "outputs": [
    {
     "name": "stdout",
     "output_type": "stream",
     "text": [
      "(298, 12100)\n"
     ]
    }
   ],
   "source": [
    "print(np.shape(validation_fruit_images))"
   ]
  },
  {
   "cell_type": "code",
   "execution_count": 7,
   "metadata": {},
   "outputs": [
    {
     "name": "stdout",
     "output_type": "stream",
     "text": [
      "[  0   0   0 ... 255 255 255]\n",
      "freshbanana\n",
      "[0 0 0 ... 0 0 0]\n",
      "freshbanana\n",
      "['freshbanana'] correct label freshbanana\n",
      "['freshbanana'] correct label freshbanana\n",
      "['freshbanana'] correct label freshbanana\n",
      "['freshbanana'] correct label freshbanana\n",
      "['freshbanana'] correct label freshbanana\n",
      "['freshbanana'] correct label freshbanana\n",
      "['freshbanana'] correct label freshbanana\n",
      "['freshbanana'] correct label freshbanana\n",
      "['freshbanana'] correct label freshbanana\n",
      "['freshbanana'] correct label freshbanana\n"
     ]
    }
   ],
   "source": [
    "#print(np.shape(validation_fruit_images))\n",
    "print(validation_fruit_images[9])\n",
    "print(validation_labels[9])\n",
    "print(fruit_images[9])\n",
    "print(labels[9])\n",
    "for i in range(1,298,30):\n",
    "    check=clf.predict([fruit_images[i]])\n",
    "    print(check,\"correct label\", labels[i])"
   ]
  },
  {
   "cell_type": "code",
   "execution_count": 10,
   "metadata": {},
   "outputs": [
    {
     "name": "stdout",
     "output_type": "stream",
     "text": [
      "(298, 12100)\n"
     ]
    }
   ],
   "source": [
    "print(np.shape(validation_fruit_images))\n",
    "#classes: 4*3/2 = 6"
   ]
  },
  {
   "cell_type": "code",
   "execution_count": 8,
   "metadata": {},
   "outputs": [
    {
     "name": "stdout",
     "output_type": "stream",
     "text": [
      "1982\n",
      "Accuracy is  0.7346182357301705\n"
     ]
    }
   ],
   "source": [
    "#Measuring the accuracy\n",
    "count=0 \n",
    "total = np.shape(validation_fruit_images)[0]\n",
    "#print(total)\n",
    "for i in range(total):\n",
    "    check=clf.predict([validation_fruit_images[i]])\n",
    "    if check[0] == validation_labels[i] :\n",
    "        count += 1\n",
    "print(count)\n",
    "print(\"Accuracy is \", count/total)"
   ]
  },
  {
   "cell_type": "code",
   "execution_count": 44,
   "metadata": {
    "collapsed": true
   },
   "outputs": [],
   "source": [
    "#Accuracy achieved in this method is 73.46%."
   ]
  }
 ],
 "metadata": {
  "kernelspec": {
   "display_name": "Python 3",
   "language": "python",
   "name": "python3"
  },
  "language_info": {
   "codemirror_mode": {
    "name": "ipython",
    "version": 3
   },
   "file_extension": ".py",
   "mimetype": "text/x-python",
   "name": "python",
   "nbconvert_exporter": "python",
   "pygments_lexer": "ipython3",
   "version": "3.6.3"
  }
 },
 "nbformat": 4,
 "nbformat_minor": 2
}
