{
 "cells": [
  {
   "cell_type": "code",
   "execution_count": 1,
   "metadata": {
    "_cell_guid": "b1076dfc-b9ad-4769-8c92-a6c4dae69d19",
    "_uuid": "8f2839f25d086af736a60e9eeb907d3b93b6e0e5",
    "scrolled": true
   },
   "outputs": [
    {
     "name": "stderr",
     "output_type": "stream",
     "text": [
      "/Users/sriramreddy/anaconda3/lib/python3.6/site-packages/h5py/__init__.py:34: FutureWarning: Conversion of the second argument of issubdtype from `float` to `np.floating` is deprecated. In future, it will be treated as `np.float64 == np.dtype(float).type`.\n",
      "  from ._conv import register_converters as _register_converters\n",
      "Using TensorFlow backend.\n"
     ]
    },
    {
     "name": "stdout",
     "output_type": "stream",
     "text": [
      "['freshbanana', 'rottenbanana', 'freshoranges', 'freshapples', 'rottenoranges', 'rottenapples']\n"
     ]
    }
   ],
   "source": [
    "import numpy as np \n",
    "import pandas as pd \n",
    "import matplotlib.pyplot as plt\n",
    "%matplotlib inline\n",
    "import tensorflow as tf\n",
    "import keras\n",
    "import glob\n",
    "import cv2\n",
    "\n",
    "import os\n",
    "print(os.listdir(\"/Users/sriramreddy/Downloads/523/ex2/train/\"))"
   ]
  },
  {
   "cell_type": "markdown",
   "metadata": {
    "_cell_guid": "a98294ed-c06d-492f-99dd-7c3085649fd7",
    "_uuid": "82540a2a002b69864481959412ad30f5cd7cc3dd"
   },
   "source": [
    "I've borrowed the code to grab the data from https://www.kaggle.com/gaborvecsei/fruit-juice-mix-of-pca-random-forest-svm to speed things up -- I'm focusing just on the neural network aspects of the project. Thank you user gaborvecsei!\n",
    "\n",
    "I have borrowed the code to augment the data from https://medium.com/ymedialabs-innovation/data-augmentation-techniques-in-cnn-using-tensorflow-371ae43d5be9\n",
    " from the github link provided in that website. \n",
    " (tensor flow inbuilt resize image)"
   ]
  },
  {
   "cell_type": "markdown",
   "metadata": {},
   "source": [
    "## Data Resizing and Augmentation technique\n",
    "## Training Set"
   ]
  },
  {
   "cell_type": "code",
   "execution_count": 2,
   "metadata": {
    "_cell_guid": "79c7e3d0-c299-4dcb-8224-4455121ee9b0",
    "_uuid": "d629ff2d2480ee46fbb7e2d37f6b5fab8052498a",
    "collapsed": true
   },
   "outputs": [],
   "source": [
    "fruit_images = []\n",
    "labels = [] \n",
    "for fruit_dir_path in glob.glob(\"/Users/sriramreddy/Downloads/523/ex2/train/*\"):\n",
    "    fruit_label = fruit_dir_path.split(\"/\")[-1]\n",
    "    for image_path in glob.glob(os.path.join(fruit_dir_path, \"*.png\")):\n",
    "        image = cv2.imread(image_path, cv2.IMREAD_COLOR)\n",
    "        image = cv2.resize(image, (110, 110))\n",
    "        image = cv2.cvtColor(image, cv2.COLOR_RGB2BGR) \n",
    "        #why do we need to convert the RGB2BGR\n",
    "        #I don't think it is going to affect training\n",
    "        #BGR was a choice made for historical reasons and now we have to live with it. In other words, BGR is the horse’s ass in OpenCV.\n",
    "        fruit_images.append(image)\n",
    "        labels.append(fruit_label)\n",
    "fruit_images = np.array(fruit_images)\n",
    "labels = np.array(labels)"
   ]
  },
  {
   "cell_type": "code",
   "execution_count": 3,
   "metadata": {
    "_cell_guid": "ca43a0ff-7227-4eb5-bf5b-033537277c5b",
    "_uuid": "2b70a219a7d4f8bd8cb78ea6bed72fd792ea632e",
    "collapsed": true
   },
   "outputs": [],
   "source": [
    "label_to_id_dict = {v:i for i,v in enumerate(np.unique(labels))}\n",
    "id_to_label_dict = {v: k for k, v in label_to_id_dict.items()}"
   ]
  },
  {
   "cell_type": "code",
   "execution_count": 4,
   "metadata": {
    "_cell_guid": "f1eb39fe-0ac6-4fa6-925a-ef26de6c10b0",
    "_uuid": "3fc44e1713652d107cdaf2279356f1e25d3bce23"
   },
   "outputs": [
    {
     "data": {
      "text/plain": [
       "{0: 'freshapples',\n",
       " 1: 'freshbanana',\n",
       " 2: 'freshoranges',\n",
       " 3: 'rottenapples',\n",
       " 4: 'rottenbanana',\n",
       " 5: 'rottenoranges'}"
      ]
     },
     "execution_count": 4,
     "metadata": {},
     "output_type": "execute_result"
    }
   ],
   "source": [
    "id_to_label_dict"
   ]
  },
  {
   "cell_type": "code",
   "execution_count": 5,
   "metadata": {
    "_cell_guid": "f8a109a1-44a4-4751-b83f-9c0d7b431391",
    "_uuid": "8cd3260d55a6b91a280468255894858efb140d56",
    "collapsed": true
   },
   "outputs": [],
   "source": [
    "label_ids = np.array([label_to_id_dict[x] for x in labels])"
   ]
  },
  {
   "cell_type": "code",
   "execution_count": 6,
   "metadata": {
    "_cell_guid": "54fd1b9c-4806-4256-8255-90f787346d60",
    "_uuid": "29e0a247e71117c9f901d04706a092da95f3bbca"
   },
   "outputs": [
    {
     "data": {
      "text/plain": [
       "((10901, 110, 110, 3), (10901,), (10901,))"
      ]
     },
     "execution_count": 6,
     "metadata": {},
     "output_type": "execute_result"
    }
   ],
   "source": [
    "fruit_images.shape, label_ids.shape, labels.shape"
   ]
  },
  {
   "cell_type": "markdown",
   "metadata": {
    "_cell_guid": "c231ec3b-1304-4233-b4d3-62a2a20cc67f",
    "_uuid": "60e6c567bb606dbdc9c4d729073b5bf08957d96f"
   },
   "source": [
    "So, fruit_images contains our image files, label_ids has the numeric translation of our labels, and labels contains the name of the fruits themselves.\n",
    "\n",
    "## Test Set:\n",
    "\n",
    "The data provided calls this \"validation\", but we'll use it as our test set."
   ]
  },
  {
   "cell_type": "code",
   "execution_count": 7,
   "metadata": {
    "_cell_guid": "92107412-2e52-4e08-a8bd-4541398f0d1d",
    "_uuid": "2f88b352eab3ace84ab89f3a35c0434dc287a175",
    "collapsed": true
   },
   "outputs": [],
   "source": [
    "validation_fruit_images = []\n",
    "validation_labels = [] \n",
    "for fruit_dir_path in glob.glob(\"/Users/sriramreddy/Downloads/523/ex2/test/*\"):\n",
    "    fruit_label = fruit_dir_path.split(\"/\")[-1]\n",
    "    for image_path in glob.glob(os.path.join(fruit_dir_path, \"*.png\")):\n",
    "        image = cv2.imread(image_path, cv2.IMREAD_COLOR)\n",
    "        image = cv2.resize(image, (110, 110))\n",
    "        image = cv2.cvtColor(image, cv2.COLOR_RGB2BGR)\n",
    "        validation_fruit_images.append(image)\n",
    "        validation_labels.append(fruit_label)\n",
    "validation_fruit_images = np.array(validation_fruit_images)\n",
    "validation_labels = np.array(validation_labels)"
   ]
  },
  {
   "cell_type": "code",
   "execution_count": 8,
   "metadata": {
    "_cell_guid": "fef24e6d-d3c6-485e-8eea-1acf2a18d0cf",
    "_uuid": "db7432784afab0594f2b02f4bf17f95ae4998506",
    "collapsed": true
   },
   "outputs": [],
   "source": [
    "validation_label_ids = np.array([label_to_id_dict[x] for x in validation_labels])"
   ]
  },
  {
   "cell_type": "code",
   "execution_count": 9,
   "metadata": {
    "_cell_guid": "b1c98a59-4ea6-4a85-a3d0-c987b36fcd90",
    "_uuid": "5b5a55b8b58e21d4f30fe00a0d2c034eecf5487a"
   },
   "outputs": [
    {
     "data": {
      "text/plain": [
       "((2698, 110, 110, 3), (2698,))"
      ]
     },
     "execution_count": 9,
     "metadata": {},
     "output_type": "execute_result"
    }
   ],
   "source": [
    "validation_fruit_images.shape, validation_label_ids.shape"
   ]
  },
  {
   "cell_type": "markdown",
   "metadata": {
    "_uuid": "cf08e1f11d2be782bdbd5ba45d1aa22d3446fe97"
   },
   "source": [
    "## Splitting the Data"
   ]
  },
  {
   "cell_type": "code",
   "execution_count": 10,
   "metadata": {
    "_cell_guid": "9b207d2e-4e42-4bcf-a2eb-9aeee8261b40",
    "_uuid": "9dc6de412354176bf85eefdc595cf31b10ef2ac7"
   },
   "outputs": [
    {
     "name": "stdout",
     "output_type": "stream",
     "text": [
      "Original Sizes: (10901, 110, 110, 3) (2698, 110, 110, 3) (10901, 60) (2698, 60)\n",
      "Flattened: (10901, 36300) (2698, 36300)\n"
     ]
    }
   ],
   "source": [
    "X_train, X_test = fruit_images, validation_fruit_images\n",
    "Y_train, Y_test = label_ids, validation_label_ids\n",
    "\n",
    "#Normalize color values to between 0 and 1\n",
    "X_train = X_train/255\n",
    "X_test = X_test/255\n",
    "\n",
    "#Make a flattened version for some of our models\n",
    "X_flat_train = X_train.reshape(X_train.shape[0], 110*110*3)\n",
    "X_flat_test = X_test.reshape(X_test.shape[0], 110*110*3)\n",
    "\n",
    "#One Hot Encode the Output what is this 60 \n",
    "Y_train = keras.utils.to_categorical(Y_train, 60)\n",
    "Y_test = keras.utils.to_categorical(Y_test, 60)\n",
    "\n",
    "print('Original Sizes:', X_train.shape, X_test.shape, Y_train.shape, Y_test.shape)\n",
    "print('Flattened:', X_flat_train.shape, X_flat_test.shape)"
   ]
  },
  {
   "cell_type": "code",
   "execution_count": 11,
   "metadata": {
    "_cell_guid": "93678068-75d2-401a-95eb-843715cef14e",
    "_uuid": "3fcc6e9c09ebfc91c94eda9422aaef83ea78325d"
   },
   "outputs": [
    {
     "name": "stdout",
     "output_type": "stream",
     "text": [
      "(110, 110, 3)\n"
     ]
    },
    {
     "data": {
      "image/png": "[encoded data removed]",
      "text/plain": [
       "<matplotlib.figure.Figure at 0x1823b1e400>"
      ]
     },
     "metadata": {},
     "output_type": "display_data"
    }
   ],
   "source": [
    "print(X_train[200].shape)\n",
    "plt.imshow(X_train[0])\n",
    "plt.show()"
   ]
  },
  {
   "cell_type": "markdown",
   "metadata": {
    "_cell_guid": "ce863668-fc41-49ed-8187-b052f17086cd",
    "_uuid": "546694f6184a5a06393c65c46ed80489e1196500"
   },
   "source": [
    "Cool! We've got all our images stored as 110* 110 pixel images with 3 channels for RGB, as well as a flattened version for certain models. Let's start with a simple sequential model.\n",
    "\n",
    "## Setting Up Our Neural Network"
   ]
  },
  {
   "cell_type": "code",
   "execution_count": 12,
   "metadata": {
    "_cell_guid": "644f5431-9357-44c6-a4b0-8fda7517a824",
    "_uuid": "0249b5c8f24e2ebd4c4c5662e136f7793b3e5c31",
    "collapsed": true
   },
   "outputs": [],
   "source": [
    "from keras.models import Sequential\n",
    "from keras.layers import Dense, Dropout, Flatten, Conv2D, MaxPooling2D\n",
    "from keras.layers import LSTM, Input, TimeDistributed\n",
    "from keras.models import Model\n",
    "from keras.optimizers import RMSprop, SGD\n",
    "\n",
    "# Import the backend\n",
    "from keras import backend as K"
   ]
  },
  {
   "cell_type": "markdown",
   "metadata": {
    "_uuid": "b5a331c040b2930043deb8e85cb4c93136b08b36"
   },
   "source": [
    "## Run a Quick Model "
   ]
  },
  {
   "cell_type": "code",
   "execution_count": 13,
   "metadata": {
    "_cell_guid": "22edde2e-0e07-4c1d-a399-46917f4c2996",
    "_uuid": "b3ee2cc03ea8593ba1fa7b9f5abf12d3be0c9a18",
    "scrolled": false
   },
   "outputs": [
    {
     "name": "stdout",
     "output_type": "stream",
     "text": [
      "_________________________________________________________________\n",
      "Layer (type)                 Output Shape              Param #   \n",
      "=================================================================\n",
      "dense_1 (Dense)              (None, 128)               4646528   \n",
      "_________________________________________________________________\n",
      "dropout_1 (Dropout)          (None, 128)               0         \n",
      "_________________________________________________________________\n",
      "dense_2 (Dense)              (None, 64)                8256      \n",
      "_________________________________________________________________\n",
      "dropout_2 (Dropout)          (None, 64)                0         \n",
      "_________________________________________________________________\n",
      "dense_3 (Dense)              (None, 60)                3900      \n",
      "=================================================================\n",
      "Total params: 4,658,684\n",
      "Trainable params: 4,658,684\n",
      "Non-trainable params: 0\n",
      "_________________________________________________________________\n",
      "Train on 10901 samples, validate on 2698 samples\n",
      "Epoch 1/10\n",
      "10901/10901 [==============================] - 64s 6ms/step - loss: 13.1711 - acc: 0.1747 - val_loss: 13.6187 - val_acc: 0.1509\n",
      "Epoch 2/10\n",
      "10901/10901 [==============================] - 102s 9ms/step - loss: 12.4237 - acc: 0.2191 - val_loss: 12.7339 - val_acc: 0.2061\n",
      "Epoch 3/10\n",
      "10901/10901 [==============================] - 81s 7ms/step - loss: 11.7586 - acc: 0.2602 - val_loss: 11.8305 - val_acc: 0.2461\n",
      "Epoch 4/10\n",
      "10901/10901 [==============================] - 83s 8ms/step - loss: 6.3334 - acc: 0.3251 - val_loss: 1.3495 - val_acc: 0.4388\n",
      "Epoch 5/10\n",
      "10901/10901 [==============================] - 223s 20ms/step - loss: 1.5602 - acc: 0.4453 - val_loss: 3.1943 - val_acc: 0.3032\n",
      "Epoch 6/10\n",
      "10901/10901 [==============================] - 147s 13ms/step - loss: 1.3277 - acc: 0.4905 - val_loss: 1.2053 - val_acc: 0.5334\n",
      "Epoch 7/10\n",
      "10901/10901 [==============================] - 130s 12ms/step - loss: 1.1758 - acc: 0.5361 - val_loss: 1.7904 - val_acc: 0.4047\n",
      "Epoch 8/10\n",
      "10901/10901 [==============================] - 101s 9ms/step - loss: 1.0705 - acc: 0.5751 - val_loss: 1.1150 - val_acc: 0.5608\n",
      "Epoch 9/10\n",
      "10901/10901 [==============================] - 89s 8ms/step - loss: 0.9857 - acc: 0.6275 - val_loss: 0.7765 - val_acc: 0.7120\n",
      "Epoch 10/10\n",
      "10901/10901 [==============================] - 102s 9ms/step - loss: 0.9240 - acc: 0.6432 - val_loss: 0.7558 - val_acc: 0.7268\n",
      "Test loss: 0.7558404505031917\n",
      "Test accuracy: 0.726834692408899\n"
     ]
    }
   ],
   "source": [
    "model_dense = Sequential()\n",
    "\n",
    "# Add dense layers to create a fully connected MLP\n",
    "# Note that we specify an input shape for the first layer, but only the first layer.\n",
    "# Relu is the activation function used\n",
    "model_dense.add(Dense(128, activation='relu', input_shape=(X_flat_train.shape[1],)))\n",
    "# Dropout layers remove features and fight overfitting\n",
    "model_dense.add(Dropout(0.1))\n",
    "model_dense.add(Dense(64, activation='relu'))\n",
    "model_dense.add(Dropout(0.1))\n",
    "# End with a number of units equal to the number of classes we have for our outcome\n",
    "model_dense.add(Dense(60, activation='softmax'))\n",
    "model_dense.summary()\n",
    "# Compile the model to put it all together.\n",
    "#categorical_crossentropy loss\n",
    "model_dense.compile(loss='categorical_crossentropy',\n",
    "              optimizer=RMSprop(),\n",
    "              metrics=['accuracy'])\n",
    "\n",
    "#Changed the batch size here\n",
    "history_dense = model_dense.fit(X_flat_train, Y_train,\n",
    "                          batch_size=50,\n",
    "                          epochs=10,\n",
    "                          verbose=1,\n",
    "                          validation_data=(X_flat_test, Y_test))\n",
    "score = model_dense.evaluate(X_flat_test, Y_test, verbose=0)\n",
    "print('Test loss:', score[0])\n",
    "print('Test accuracy:', score[1])"
   ]
  },
  {
   "cell_type": "markdown",
   "metadata": {
    "_cell_guid": "be6241e7-6e4c-405f-a917-b1221214d081",
    "_uuid": "74e90472fc569fc85d0d22e6513610e5082a4664",
    "collapsed": true
   },
   "source": [
    "Great! That's a good starting point. We're achieving ~16% accuracy on the test set using a neural network with two dense layers (128 nodes and 64 nodes) and dropout (to reduce overfitting). Let's see how much better we can do, first using a deeper network, and then using CNN."
   ]
  },
  {
   "cell_type": "code",
   "execution_count": 14,
   "metadata": {
    "_uuid": "4ffc197d60250e874d2eb8289922b4f721885863"
   },
   "outputs": [
    {
     "name": "stdout",
     "output_type": "stream",
     "text": [
      "_________________________________________________________________\n",
      "Layer (type)                 Output Shape              Param #   \n",
      "=================================================================\n",
      "dense_4 (Dense)              (None, 256)               9293056   \n",
      "_________________________________________________________________\n",
      "dropout_3 (Dropout)          (None, 256)               0         \n",
      "_________________________________________________________________\n",
      "dense_5 (Dense)              (None, 128)               32896     \n",
      "_________________________________________________________________\n",
      "dropout_4 (Dropout)          (None, 128)               0         \n",
      "_________________________________________________________________\n",
      "dense_6 (Dense)              (None, 128)               16512     \n",
      "_________________________________________________________________\n",
      "dropout_5 (Dropout)          (None, 128)               0         \n",
      "_________________________________________________________________\n",
      "dense_7 (Dense)              (None, 128)               16512     \n",
      "_________________________________________________________________\n",
      "dropout_6 (Dropout)          (None, 128)               0         \n",
      "_________________________________________________________________\n",
      "dense_8 (Dense)              (None, 128)               16512     \n",
      "_________________________________________________________________\n",
      "dropout_7 (Dropout)          (None, 128)               0         \n",
      "_________________________________________________________________\n",
      "dense_9 (Dense)              (None, 60)                7740      \n",
      "=================================================================\n",
      "Total params: 9,383,228\n",
      "Trainable params: 9,383,228\n",
      "Non-trainable params: 0\n",
      "_________________________________________________________________\n",
      "Train on 10901 samples, validate on 2698 samples\n",
      "Epoch 1/10\n",
      "10901/10901 [==============================] - 115s 11ms/step - loss: 13.5302 - acc: 0.1559 - val_loss: 13.7583 - val_acc: 0.1464\n",
      "Epoch 2/10\n",
      "10901/10901 [==============================] - 56s 5ms/step - loss: 13.6148 - acc: 0.1553 - val_loss: 13.7583 - val_acc: 0.1464\n",
      "Epoch 3/10\n",
      "10901/10901 [==============================] - 54s 5ms/step - loss: 13.2226 - acc: 0.1796 - val_loss: 12.9518 - val_acc: 0.1964\n",
      "Epoch 4/10\n",
      "10901/10901 [==============================] - 42s 4ms/step - loss: 12.8297 - acc: 0.2040 - val_loss: 12.9518 - val_acc: 0.1964\n",
      "Epoch 5/10\n",
      "10901/10901 [==============================] - 37s 3ms/step - loss: 12.8297 - acc: 0.2040 - val_loss: 12.9518 - val_acc: 0.1964\n",
      "Epoch 6/10\n",
      "10901/10901 [==============================] - 44s 4ms/step - loss: 12.8297 - acc: 0.2040 - val_loss: 12.9518 - val_acc: 0.1964\n",
      "Epoch 7/10\n",
      "10901/10901 [==============================] - 68s 6ms/step - loss: 12.8297 - acc: 0.2040 - val_loss: 12.9518 - val_acc: 0.1964\n",
      "Epoch 8/10\n",
      "10901/10901 [==============================] - 50s 5ms/step - loss: 12.8297 - acc: 0.2040 - val_loss: 12.9518 - val_acc: 0.1964\n",
      "Epoch 9/10\n",
      "10901/10901 [==============================] - 87s 8ms/step - loss: 12.8297 - acc: 0.2040 - val_loss: 12.9518 - val_acc: 0.1964\n",
      "Epoch 10/10\n",
      "10901/10901 [==============================] - 58s 5ms/step - loss: 12.8297 - acc: 0.2040 - val_loss: 12.9518 - val_acc: 0.1964\n",
      "Test loss: 12.951827601382607\n",
      "Test accuracy: 0.19644180874722017\n"
     ]
    }
   ],
   "source": [
    "model_deep = Sequential()\n",
    "# Add dense layers to create a fully connected MLP\n",
    "# Note that we specify an input shape for the first layer, but only the first layer.\n",
    "# Relu is the activation function used\n",
    "model_deep.add(Dense(256, activation='relu', input_shape=(X_flat_train.shape[1],)))\n",
    "# Dropout layers remove features and fight overfitting\n",
    "model_deep.add(Dropout(0.05))\n",
    "model_deep.add(Dense(128, activation='relu'))\n",
    "model_deep.add(Dropout(0.05))\n",
    "model_deep.add(Dense(128, activation='relu'))\n",
    "model_deep.add(Dropout(0.05))\n",
    "model_deep.add(Dense(128, activation='relu'))\n",
    "model_deep.add(Dropout(0.05))\n",
    "model_deep.add(Dense(128, activation='relu'))\n",
    "model_deep.add(Dropout(0.05))\n",
    "# End with a number of units equal to the number of classes we have for our outcome\n",
    "model_deep.add(Dense(60, activation='softmax'))\n",
    "\n",
    "model_deep.summary()\n",
    "\n",
    "# Compile the model to put it all together.\n",
    "model_deep.compile(loss='categorical_crossentropy',\n",
    "              optimizer=RMSprop(),\n",
    "              metrics=['accuracy'])\n",
    "\n",
    "history_deep = model_deep.fit(X_flat_train, Y_train,\n",
    "                          batch_size=50,\n",
    "                          epochs=10,\n",
    "                          verbose=1,\n",
    "                          validation_data=(X_flat_test, Y_test))\n",
    "score = model_deep.evaluate(X_flat_test, Y_test, verbose=0)\n",
    "print('Test loss:', score[0])\n",
    "print('Test accuracy:', score[1])"
   ]
  },
  {
   "cell_type": "code",
   "execution_count": 3,
   "metadata": {},
   "outputs": [],
   "source": [
    "#The network results in very less accuracy if you are using only RELU layers as it is unable to capture the features."
   ]
  },
  {
   "cell_type": "code",
   "execution_count": 16,
   "metadata": {
    "_uuid": "1d48c486afe1a719fc7138638cc076b225b168d2"
   },
   "outputs": [
    {
     "name": "stdout",
     "output_type": "stream",
     "text": [
      "Train on 10901 samples, validate on 2698 samples\n",
      "Epoch 1/1\n",
      "10901/10901 [==============================] - 564s 52ms/step - loss: 1.9528 - acc: 0.4328 - val_loss: 1.7006 - val_acc: 0.4566\n",
      "Test loss: 1.700645467234683\n",
      "Test accuracy: 0.45663454410674575\n"
     ]
    }
   ],
   "source": [
    "#there are using maxpool convolution and final dense layer.\n",
    "model_cnn = Sequential()\n",
    "# First convolutional layer, note the specification of shape\n",
    "model_cnn.add(Conv2D(32, kernel_size=(3, 3),\n",
    "                 activation='relu',\n",
    "                 input_shape=(110, 110, 3)))\n",
    "model_cnn.add(Conv2D(64, (3, 3), activation='relu'))\n",
    "model_cnn.add(MaxPooling2D(pool_size=(2, 2)))\n",
    "model_cnn.add(Dropout(0.25))\n",
    "model_cnn.add(Flatten())\n",
    "model_cnn.add(Dense(128, activation='relu'))\n",
    "model_cnn.add(Dropout(0.5))\n",
    "model_cnn.add(Dense(60, activation='softmax'))\n",
    "\n",
    "model_cnn.compile(loss=keras.losses.categorical_crossentropy,\n",
    "              optimizer=keras.optimizers.Adadelta(),\n",
    "              metrics=['accuracy'])\n",
    "\n",
    "model_cnn.fit(X_train, Y_train,\n",
    "          batch_size=128,\n",
    "          epochs=1,\n",
    "          verbose=1,\n",
    "          validation_data=(X_test, Y_test))\n",
    "score = model_cnn.evaluate(X_test, Y_test, verbose=0)\n",
    "print('Test loss:', score[0])\n",
    "print('Test accuracy:', score[1])"
   ]
  },
  {
   "cell_type": "markdown",
   "metadata": {
    "_uuid": "a5bcf3066e91ce0343daa96c64b37b46d2dcc9cc"
   },
   "source": [
    "Normally I wouldn't leave this trial run in the notebook, but our CNN got up to 45% accuracy on a single epoch! Let's run it for a few more and see how well we can do."
   ]
  },
  {
   "cell_type": "code",
   "execution_count": 17,
   "metadata": {
    "_uuid": "c7dbaad88b5933c9c337fbd20b6374ed231ad006"
   },
   "outputs": [
    {
     "name": "stdout",
     "output_type": "stream",
     "text": [
      "Train on 10901 samples, validate on 2698 samples\n",
      "Epoch 1/30\n",
      "10901/10901 [==============================] - 592s 54ms/step - loss: 0.7617 - acc: 0.7367 - val_loss: 0.5992 - val_acc: 0.7880\n",
      "Epoch 2/30\n",
      "10901/10901 [==============================] - 2070s 190ms/step - loss: 0.5316 - acc: 0.8110 - val_loss: 0.3077 - val_acc: 0.8984\n",
      "Epoch 3/30\n",
      "10901/10901 [==============================] - 2211s 203ms/step - loss: 0.4182 - acc: 0.8576 - val_loss: 0.3225 - val_acc: 0.8747\n",
      "Epoch 4/30\n",
      "10901/10901 [==============================] - 544s 50ms/step - loss: 0.3665 - acc: 0.8704 - val_loss: 0.2517 - val_acc: 0.9122\n",
      "Epoch 5/30\n",
      "10901/10901 [==============================] - 542s 50ms/step - loss: 0.3054 - acc: 0.8904 - val_loss: 0.8082 - val_acc: 0.7168\n",
      "Epoch 6/30\n",
      "10901/10901 [==============================] - 13288s 1s/step - loss: 0.2782 - acc: 0.9007 - val_loss: 0.3626 - val_acc: 0.8747\n",
      "Epoch 7/30\n",
      "10901/10901 [==============================] - 19782s 2s/step - loss: 0.2358 - acc: 0.9158 - val_loss: 0.4556 - val_acc: 0.8347\n",
      "Epoch 8/30\n",
      "10901/10901 [==============================] - 629s 58ms/step - loss: 0.2222 - acc: 0.9192 - val_loss: 0.3638 - val_acc: 0.8232\n",
      "Epoch 9/30\n",
      "10901/10901 [==============================] - 770s 71ms/step - loss: 0.1995 - acc: 0.9281 - val_loss: 0.1714 - val_acc: 0.9400\n",
      "Epoch 10/30\n",
      "10901/10901 [==============================] - 596s 55ms/step - loss: 0.1775 - acc: 0.9364 - val_loss: 0.4121 - val_acc: 0.8603\n",
      "Epoch 11/30\n",
      "10901/10901 [==============================] - 567s 52ms/step - loss: 0.1618 - acc: 0.9417 - val_loss: 0.1644 - val_acc: 0.9381\n",
      "Epoch 12/30\n",
      "10901/10901 [==============================] - 502s 46ms/step - loss: 0.1320 - acc: 0.9516 - val_loss: 0.1430 - val_acc: 0.9507\n",
      "Epoch 13/30\n",
      "10901/10901 [==============================] - 494s 45ms/step - loss: 0.1495 - acc: 0.9464 - val_loss: 0.2519 - val_acc: 0.9173\n",
      "Epoch 14/30\n",
      "10901/10901 [==============================] - 511s 47ms/step - loss: 0.1234 - acc: 0.9563 - val_loss: 0.1000 - val_acc: 0.9659\n",
      "Epoch 15/30\n",
      "10901/10901 [==============================] - 502s 46ms/step - loss: 0.1093 - acc: 0.9607 - val_loss: 0.1224 - val_acc: 0.9559\n",
      "Epoch 16/30\n",
      "10901/10901 [==============================] - 504s 46ms/step - loss: 0.1178 - acc: 0.9565 - val_loss: 0.1553 - val_acc: 0.9463\n",
      "Epoch 17/30\n",
      "10901/10901 [==============================] - 475s 44ms/step - loss: 0.1082 - acc: 0.9591 - val_loss: 0.2222 - val_acc: 0.9325\n",
      "Epoch 18/30\n",
      "10901/10901 [==============================] - 503s 46ms/step - loss: 0.0891 - acc: 0.9649 - val_loss: 0.1158 - val_acc: 0.9596\n",
      "Epoch 19/30\n",
      "10901/10901 [==============================] - 968s 89ms/step - loss: 0.0863 - acc: 0.9683 - val_loss: 0.1204 - val_acc: 0.9585\n",
      "Epoch 20/30\n",
      "10901/10901 [==============================] - 480s 44ms/step - loss: 0.0842 - acc: 0.9702 - val_loss: 0.1026 - val_acc: 0.9629\n",
      "Epoch 21/30\n",
      "10901/10901 [==============================] - 471s 43ms/step - loss: 0.0825 - acc: 0.9708 - val_loss: 0.1073 - val_acc: 0.9633\n",
      "Epoch 22/30\n",
      "10901/10901 [==============================] - 469s 43ms/step - loss: 0.0585 - acc: 0.9774 - val_loss: 0.1095 - val_acc: 0.9678\n",
      "Epoch 23/30\n",
      "10901/10901 [==============================] - 467s 43ms/step - loss: 0.1009 - acc: 0.9656 - val_loss: 1.0035 - val_acc: 0.8340\n",
      "Epoch 24/30\n",
      "10901/10901 [==============================] - 472s 43ms/step - loss: 0.0603 - acc: 0.9802 - val_loss: 0.1023 - val_acc: 0.9644\n",
      "Epoch 25/30\n",
      "10901/10901 [==============================] - 508s 47ms/step - loss: 0.0587 - acc: 0.9789 - val_loss: 0.1878 - val_acc: 0.9481\n",
      "Epoch 26/30\n",
      "10901/10901 [==============================] - 512s 47ms/step - loss: 0.0518 - acc: 0.9808 - val_loss: 0.0962 - val_acc: 0.9707\n",
      "Epoch 27/30\n",
      "10901/10901 [==============================] - 481s 44ms/step - loss: 0.0542 - acc: 0.9809 - val_loss: 0.1121 - val_acc: 0.9674\n",
      "Epoch 28/30\n",
      "10901/10901 [==============================] - 473s 43ms/step - loss: 0.0441 - acc: 0.9841 - val_loss: 0.1161 - val_acc: 0.9663\n",
      "Epoch 29/30\n",
      "10901/10901 [==============================] - 470s 43ms/step - loss: 0.0530 - acc: 0.9804 - val_loss: 0.1352 - val_acc: 0.9659\n",
      "Epoch 30/30\n",
      "10901/10901 [==============================] - 471s 43ms/step - loss: 0.0449 - acc: 0.9831 - val_loss: 0.1824 - val_acc: 0.9496\n",
      "Test loss: 0.18243249262955427\n",
      "Test accuracy: 0.949592290585619\n"
     ]
    }
   ],
   "source": [
    "model_cnn.fit(X_train, Y_train,\n",
    "          batch_size=128,\n",
    "          epochs=30,\n",
    "          verbose=1,\n",
    "          validation_data=(X_test, Y_test))\n",
    "score = model_cnn.evaluate(X_test, Y_test, verbose=0)\n",
    "print('Test loss:', score[0])\n",
    "print('Test accuracy:', score[1])"
   ]
  },
  {
   "cell_type": "markdown",
   "metadata": {
    "_uuid": "eca3fa4d1a58005fb7f774e8f4741d47f977e9d5"
   },
   "source": [
    "Excellent! Deepening the network (now five hidden layers: 256, 128, 128, 128, 128) brought the test set accuracy from 77% (Multi class SVM) to 94%! On to CNN -- we expect this to do the best but take significantly longer. \n",
    "This is a great result -- we can identify fruits!"
   ]
  },
  {
   "cell_type": "code",
   "execution_count": 18,
   "metadata": {
    "_uuid": "6f4e0aeff3501f600d332619827c086b3753c358"
   },
   "outputs": [
    {
     "data": {
      "text/plain": [
       "\"model_cnn.fit(X_train, Y_train,\\n          batch_size=128,\\n          epochs=15,\\n          verbose=1,\\n          validation_data=(X_test, Y_test))\\nscore = model_cnn.evaluate(X_test, Y_test, verbose=0)\\nprint('Test loss:', score[0])\\nprint('Test accuracy:', score[1])\""
      ]
     },
     "execution_count": 18,
     "metadata": {},
     "output_type": "execute_result"
    }
   ],
   "source": [
    "'''model_cnn.fit(X_train, Y_train,\n",
    "          batch_size=128,\n",
    "          epochs=15,\n",
    "          verbose=1,\n",
    "          validation_data=(X_test, Y_test))\n",
    "score = model_cnn.evaluate(X_test, Y_test, verbose=0)\n",
    "print('Test loss:', score[0])\n",
    "print('Test accuracy:', score[1])'''"
   ]
  },
  {
   "cell_type": "code",
   "execution_count": 19,
   "metadata": {
    "collapsed": true
   },
   "outputs": [],
   "source": [
    "fname=\"/Users/sriramreddy/Downloads/523/ex2/weights_cnn_classification_augmented_data.hdf5\"\n",
    "model_cnn.save_weights(fname,overwrite=True)\n",
    "#In future, you can use this model and later you can load this model for prediction "
   ]
  },
  {
   "cell_type": "code",
   "execution_count": null,
   "metadata": {
    "collapsed": true
   },
   "outputs": [],
   "source": []
  }
 ],
 "metadata": {
  "kernelspec": {
   "display_name": "Python 3",
   "language": "python",
   "name": "python3"
  },
  "language_info": {
   "codemirror_mode": {
    "name": "ipython",
    "version": 3
   },
   "file_extension": ".py",
   "mimetype": "text/x-python",
   "name": "python",
   "nbconvert_exporter": "python",
   "pygments_lexer": "ipython3",
   "version": "3.6.3"
  }
 },
 "nbformat": 4,
 "nbformat_minor": 1
}
